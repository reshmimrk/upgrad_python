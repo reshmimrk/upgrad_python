{
  "cells": [
    {
      "cell_type": "code",
      "execution_count": 2,
      "metadata": {
        "id": "uutVSXkdGBfm"
      },
      "outputs": [],
      "source": [
        "import numpy as np\n",
        "import pandas as pd"
      ]
    },
    {
      "cell_type": "code",
      "execution_count": 15,
      "metadata": {
        "id": "D5qL_wtxGBfy"
      },
      "outputs": [
        {
          "name": "stdout",
          "output_type": "stream",
          "text": [
            "(59, 8)\n"
          ]
        }
      ],
      "source": [
        "df= pd.read_csv(\"MegaMart_sales.csv\")\n",
        "\n",
        "print(df.shape)"
      ]
    },
    {
      "cell_type": "code",
      "execution_count": 6,
      "metadata": {},
      "outputs": [
        {
          "data": {
            "text/plain": [
              "Index(['Order ID', 'Product Name', 'Discount', 'Sales', 'Profit', 'Quantity',\n",
              "       'Category', 'Sub-Category'],\n",
              "      dtype='object')"
            ]
          },
          "execution_count": 6,
          "metadata": {},
          "output_type": "execute_result"
        }
      ],
      "source": [
        "df.columns"
      ]
    },
    {
      "cell_type": "code",
      "execution_count": 14,
      "metadata": {
        "id": "XnbRL0HIGBf0"
      },
      "outputs": [
        {
          "data": {
            "text/plain": [
              "(9, 8)"
            ]
          },
          "execution_count": 14,
          "metadata": {},
          "output_type": "execute_result"
        }
      ],
      "source": [
        "df_new=pd.read_csv(\"MegaMart_newsales.csv\")\n",
        "\n",
        "df_new.shape"
      ]
    },
    {
      "attachments": {},
      "cell_type": "markdown",
      "metadata": {
        "id": "8i2QXssbGBf1"
      },
      "source": [
        "\n"
      ]
    },
    {
      "attachments": {},
      "cell_type": "markdown",
      "metadata": {
        "id": "MGItV5pWGBf6"
      },
      "source": [
        "#### Combining two data frames\n",
        "Question 1: Some of the orders are stored in another csv file named `megamart_new sales`. Read the csv file, store it in a data frame and add it to the `megamart_sales` data frame. Find the total sales value of the category 'Office Supplies'  after combining the dataframes\n",
        "\n",
        "    a)7970\n",
        "    b)6964\n",
        "    c)7494\n",
        "    d)6076"
      ]
    },
    {
      "cell_type": "code",
      "execution_count": 21,
      "metadata": {
        "id": "QYBtMG1NGBf7"
      },
      "outputs": [
        {
          "name": "stdout",
          "output_type": "stream",
          "text": [
            "(68, 8)\n",
            "Category\n",
            "Furniture          2460\n",
            "Office Supplies    7970\n",
            "Technology         8588\n",
            "Name: Sales, dtype: int64\n"
          ]
        }
      ],
      "source": [
        "#your code here\n",
        "\n",
        "df_all = pd.concat((df, df_new), axis=0)\n",
        "\n",
        "print(df_all.shape)\n",
        "\n",
        "print(df_all.groupby(by=\"Category\").Sales.sum())"
      ]
    },
    {
      "attachments": {},
      "cell_type": "markdown",
      "metadata": {
        "id": "z4Z0ZMHsGBf9"
      },
      "source": [
        "#### Dropping duplicates\n",
        "Question 2: There are some duplicate rows in the data frame. Drop these rows and calculate the total sales value of the category Office Supplies.\n",
        "\n",
        "    a)7156\n",
        "    b)6496\n",
        "    c)6964\n",
        "    d)6023"
      ]
    },
    {
      "cell_type": "code",
      "execution_count": 27,
      "metadata": {
        "id": "35vdjyU2GBf_"
      },
      "outputs": [
        {
          "name": "stdout",
          "output_type": "stream",
          "text": [
            "6964\n"
          ]
        }
      ],
      "source": [
        "#your code here\n",
        "\n",
        "df_clean = df_all.drop_duplicates()\n",
        "# print(df_clean.shape)\n",
        "print(df_clean.groupby(by=\"Category\").Sales.sum()[\"Office Supplies\"])\n",
        "\n"
      ]
    },
    {
      "attachments": {},
      "cell_type": "markdown",
      "metadata": {
        "id": "71CSKOO0GBgC"
      },
      "source": [
        "#### Best category-sub category \n",
        "Question 3: Find the most profitable category and sub category combination based on the net profit.\n",
        "\n",
        "\n",
        "    a)Furniture-Bookcases\n",
        "    b)Office supplies-Appliances\n",
        "    c)Office supplies-Storage\n",
        "    d)Technology-Phones"
      ]
    },
    {
      "cell_type": "code",
      "execution_count": 34,
      "metadata": {
        "id": "-W66EdQqGBgF"
      },
      "outputs": [
        {
          "name": "stdout",
          "output_type": "stream",
          "text": [
            "Category         Sub-Category\n",
            "Furniture        Bookcases        308\n",
            "                 Chairs           -49\n",
            "                 Furnishings       74\n",
            "Office Supplies  Appliances       229\n",
            "                 Art              275\n",
            "                 Binders          156\n",
            "                 Envelopes         35\n",
            "                 Fasteners         10\n",
            "                 Labels            30\n",
            "                 Paper             15\n",
            "                 Storage          192\n",
            "                 Supplies         103\n",
            "Technology       Accessories      215\n",
            "                 Copiers            0\n",
            "                 Machines         168\n",
            "                 Phones          1618\n",
            "Name: Profit, dtype: int64\n"
          ]
        }
      ],
      "source": [
        "#your code here\n",
        "\n",
        "# print(df_clean)\n",
        "\n",
        "df_p = (df_clean.groupby(by=['Category', 'Sub-Category']).sum())['Profit']\n",
        "\n",
        "print(df_p)"
      ]
    },
    {
      "attachments": {},
      "cell_type": "markdown",
      "metadata": {
        "id": "nIf1pLgbGBgG"
      },
      "source": [
        "#### Invalid order IDs\n",
        "Question 4: How many invalid order IDs are there in the data frame? An order id is of the form AZ-2011-Y where Y represents a whole number. A Order ID is said to be valid only if Y consists of 7 digits. Find the number of invalid order IDs in the data frame.\n",
        "    \n",
        "    a)6\n",
        "    b)7\n",
        "    c)8\n",
        "    d)9\n"
      ]
    },
    {
      "cell_type": "code",
      "execution_count": 55,
      "metadata": {
        "id": "umb45LP_GBgH"
      },
      "outputs": [
        {
          "name": "stdout",
          "output_type": "stream",
          "text": [
            "7\n"
          ]
        },
        {
          "name": "stderr",
          "output_type": "stream",
          "text": [
            "C:\\Users\\reshm\\AppData\\Local\\Temp\\ipykernel_49024\\1586928148.py:12: SettingWithCopyWarning: \n",
            "A value is trying to be set on a copy of a slice from a DataFrame.\n",
            "Try using .loc[row_indexer,col_indexer] = value instead\n",
            "\n",
            "See the caveats in the documentation: https://pandas.pydata.org/pandas-docs/stable/user_guide/indexing.html#returning-a-view-versus-a-copy\n",
            "  df_clean['Y'] = df_clean[\"Order ID\"].apply(get_y)\n"
          ]
        }
      ],
      "source": [
        "#your code here\n",
        "\n",
        "# print(df_clean)\n",
        "\n",
        "def get_y(x):\n",
        "    y = x.split(\"-\")[-1]\n",
        "    if len(y) == 7:\n",
        "        return 'Valid'\n",
        "    else:\n",
        "        return 'Invalid'\n",
        "\n",
        "df_clean['Y'] = df_clean[\"Order ID\"].apply(get_y)\n",
        "\n",
        "print( len(df_clean[df_clean['Y'] == 'Invalid'] ))\n",
        "\n",
        "\n"
      ]
    },
    {
      "attachments": {},
      "cell_type": "markdown",
      "metadata": {
        "id": "nTGiL7EgGBgJ"
      },
      "source": [
        "#### Occurence of furniture in top 25 sales\n",
        "Question 5: Find the top 25 orders based on sales value and find the number of orders which belong to furniture category.\n",
        "\n",
        "    a)2\n",
        "    b)3\n",
        "    c)4\n",
        "    d)5 "
      ]
    },
    {
      "cell_type": "code",
      "execution_count": 70,
      "metadata": {
        "id": "moF_6DakGBgK"
      },
      "outputs": [
        {
          "name": "stdout",
          "output_type": "stream",
          "text": [
            "5\n",
            "Category\n",
            "Office Supplies    11\n",
            "Technology          9\n",
            "Furniture           5\n",
            "Name: count, dtype: int64\n"
          ]
        }
      ],
      "source": [
        "#your code here\n",
        "# print(df_clean.head())\n",
        "\n",
        "top_25 = df_clean.sort_values(by='Sales', ascending=False).head(25)\n",
        "print(len(top_25[top_25['Category'] == 'Furniture']))\n",
        "\n",
        "print(top_25.Category.value_counts())"
      ]
    },
    {
      "cell_type": "code",
      "execution_count": null,
      "metadata": {
        "id": "bsP41n7PGBgM"
      },
      "outputs": [],
      "source": []
    },
    {
      "attachments": {},
      "cell_type": "markdown",
      "metadata": {
        "id": "arNK-W-jGBgN"
      },
      "source": [
        "#### And operation\n",
        "Question 6: Among the orders with sales>250 and profit>50, find the product name of the fourth highest order based on sales value.\n",
        "\n",
        "    a)Motorola Headset, with Caller ID\n",
        "    b)Panasonic Printer, Durable\t\n",
        "    c)Hoover Microwave, Red\t\n",
        "    d)Fellowes Lockers, Industrial\t"
      ]
    },
    {
      "cell_type": "code",
      "execution_count": 81,
      "metadata": {
        "id": "C_aeSSqEGBgN"
      },
      "outputs": [
        {
          "name": "stdout",
          "output_type": "stream",
          "text": [
            "Motorola Headset, with Caller ID\n"
          ]
        }
      ],
      "source": [
        "#your code here\n",
        "\n",
        "df_filtered = df_clean[(df_clean['Sales'] > 250) & (df_clean['Profit'] > 50)].sort_values(by='Sales', ascending=False).reset_index(drop=True)\n",
        "\n",
        "print(df_filtered['Product Name'][3])\n"
      ]
    },
    {
      "attachments": {},
      "cell_type": "markdown",
      "metadata": {
        "id": "1bXtNj_VGBgO"
      },
      "source": [
        "#### Column manipulation\n",
        "Question 7: Remove the orders with negative profit by dropping the corresponding rows with negative `Profit`. Find the product that makes the lowest profit per Quantity in the Technology category.\n",
        "\n",
        "    a) Nokia Audio Dock, with Caller ID\n",
        "    b) Logitech Keyboard, Programmable\n",
        "    c) Motorola Headset, with Caller ID\n",
        "    d) Belkin Flash Drive, Bluetooth"
      ]
    },
    {
      "cell_type": "code",
      "execution_count": 99,
      "metadata": {
        "id": "6LahOfrbGBgP"
      },
      "outputs": [
        {
          "name": "stdout",
          "output_type": "stream",
          "text": [
            "Logitech Keyboard, Programmable\n"
          ]
        }
      ],
      "source": [
        "#your code here\n",
        "\n",
        "df_ft = df_clean[(df_clean['Profit'] >0) & (df_clean['Category'] == 'Technology')].reset_index()\n",
        "df_ft['Profit_PQ'] = df_ft['Profit'] / df_ft['Quantity']\n",
        "print(df_ft.sort_values(by='Profit_PQ')['Product Name'].reset_index(drop=True)[0])\n",
        "\n"
      ]
    }
  ],
  "metadata": {
    "colab": {
      "collapsed_sections": [],
      "name": "Pandas_graded_questions (2).ipynb",
      "provenance": []
    },
    "kernelspec": {
      "display_name": "Python 3",
      "language": "python",
      "name": "python3"
    },
    "language_info": {
      "codemirror_mode": {
        "name": "ipython",
        "version": 3
      },
      "file_extension": ".py",
      "mimetype": "text/x-python",
      "name": "python",
      "nbconvert_exporter": "python",
      "pygments_lexer": "ipython3",
      "version": "3.10.9"
    }
  },
  "nbformat": 4,
  "nbformat_minor": 0
}
