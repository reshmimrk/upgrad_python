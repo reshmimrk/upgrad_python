{
 "cells": [
  {
   "attachments": {},
   "cell_type": "markdown",
   "metadata": {},
   "source": [
    "In a school, there are total 100 students numbered from 1 to 100. You’re given three lists named ‘C’, ‘F’, and ‘H’, representing students who play cricket, football, and hockey, respectively. Based on this information, find out and print the following: \n",
    "- Students who play all the three sports\n",
    "- Students who play both cricket and football but don’t play hockey\n",
    "- Students who play exactly two of the sports\n",
    "- Students who don’t play any of the three sports"
   ]
  },
  {
   "cell_type": "code",
   "execution_count": 6,
   "metadata": {},
   "outputs": [],
   "source": [
    "C = [7, 8, 9, 18, 20, 21, 25, 26, 27, 31, 32, 34, 35, 36, 40, 43, 45, 47, 53, 58, 62, 67, 68, 71, 72, 74, 75, 76, 80, 81, 82, 90, 93, 95, 97, 99]\n",
    "F = [1, 7, 10, 13, 16, 22, 24, 29, 30, 32, 34, 39, 40, 43, 44, 48, 56, 60, 65, 68, 69, 73, 77, 78, 90, 93, 94, 95, 96]\n",
    "H = [5, 12, 14, 17, 20, 21, 22, 25, 28, 30, 37, 38, 39, 40, 42, 44, 57, 59, 61, 62, 67, 71, 75, 76, 77, 82, 83, 86, 87, 92, 94, 95]\n",
    "\n"
   ]
  },
  {
   "attachments": {},
   "cell_type": "markdown",
   "metadata": {},
   "source": []
  },
  {
   "cell_type": "code",
   "execution_count": 7,
   "metadata": {},
   "outputs": [
    {
     "name": "stdout",
     "output_type": "stream",
     "text": [
      "{40, 95}\n"
     ]
    }
   ],
   "source": [
    "all_sport_kids = set(C) & set(F) & set(H)\n",
    "\n",
    "print(all_sport_kids)"
   ]
  },
  {
   "attachments": {},
   "cell_type": "markdown",
   "metadata": {},
   "source": [
    "#### Q1. Which are the students who play all the three sports?\n",
    "- [22, 39]\n",
    "- [39, 82]\n",
    "- [40, 95]\n",
    "- [82, 94]"
   ]
  },
  {
   "cell_type": "code",
   "execution_count": 9,
   "metadata": {},
   "outputs": [
    {
     "name": "stdout",
     "output_type": "stream",
     "text": [
      "[20, 21, 25, 62, 67, 71, 75, 76, 82]\n"
     ]
    }
   ],
   "source": [
    "print(sorted((set(C) & set(H)) - set(F)))"
   ]
  },
  {
   "attachments": {},
   "cell_type": "markdown",
   "metadata": {},
   "source": [
    "#### Q2. Which are the players who play both cricket and hockey but don't play football?\n",
    "- [20, 21, 25, 62, 67, 71, 75, 76, 82]\n",
    "- [20, 21, 22, 25, 30, 32, 34]\n",
    "- [20, 21, 22, 25, 30, 32, 34, 39, 43, 44, 62]\n",
    "- [20, 21, 68, 71, 75, 76]"
   ]
  },
  {
   "cell_type": "code",
   "execution_count": 10,
   "metadata": {},
   "outputs": [
    {
     "name": "stdout",
     "output_type": "stream",
     "text": [
      "22\n"
     ]
    }
   ],
   "source": [
    "len_c_h = len((set(C) & set(H)) - set(F))\n",
    "len_c_f = len((set(C) & set(F)) - set(H))\n",
    "len_f_h = len((set(F) & set(H)) - set(C))\n",
    "\n",
    "print(len_c_f + len_c_h + len_f_h)"
   ]
  },
  {
   "attachments": {},
   "cell_type": "markdown",
   "metadata": {},
   "source": [
    "#### Q3. How many players play exactly two sports?\n",
    "- 19\n",
    "- 20\n",
    "- 21\n",
    "- 22"
   ]
  },
  {
   "cell_type": "code",
   "execution_count": 16,
   "metadata": {},
   "outputs": [
    {
     "name": "stdout",
     "output_type": "stream",
     "text": [
      "{1, 5, 7, 8, 9, 10, 12, 13, 14, 16, 17, 18, 20, 21, 22, 24, 25, 26, 27, 28, 29, 30, 31, 32, 34, 35, 36, 37, 38, 39, 40, 42, 43, 44, 45, 47, 48, 53, 56, 57, 58, 59, 60, 61, 62, 65, 67, 68, 69, 71, 72, 73, 74, 75, 76, 77, 78, 80, 81, 82, 83, 86, 87, 90, 92, 93, 94, 95, 96, 97, 99}\n",
      "{2, 3, 4, 6, 11, 15, 19, 23, 33, 41, 46, 49, 50, 51, 52, 54, 55, 63, 64, 66, 70, 79, 84, 85, 88, 89, 91, 98, 100}\n",
      "False\n",
      "True\n",
      "False\n",
      "False\n"
     ]
    }
   ],
   "source": [
    "all_players = set(C) | set (F) | set(H)\n",
    "print(all_players)\n",
    "all_students = set(list(range(1,101,1)))\n",
    "\n",
    "no_play_students = all_students - all_players\n",
    "print(no_play_students)\n",
    "\n",
    "print(41 in all_players)\n",
    "print(48 in all_players)\n",
    "print(63 in all_players)\n",
    "print(85 in all_players)"
   ]
  },
  {
   "attachments": {},
   "cell_type": "markdown",
   "metadata": {},
   "source": [
    "#### Q4. Which of these students do not play any of the sports? (More than one option may be correct)\n",
    "- 41\n",
    "- 48\n",
    "- 63\n",
    "- 85"
   ]
  }
 ],
 "metadata": {
  "kernelspec": {
   "display_name": "Python 3",
   "language": "python",
   "name": "python3"
  },
  "language_info": {
   "codemirror_mode": {
    "name": "ipython",
    "version": 3
   },
   "file_extension": ".py",
   "mimetype": "text/x-python",
   "name": "python",
   "nbconvert_exporter": "python",
   "pygments_lexer": "ipython3",
   "version": "3.10.9"
  }
 },
 "nbformat": 4,
 "nbformat_minor": 2
}
